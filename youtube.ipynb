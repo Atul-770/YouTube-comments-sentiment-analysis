{
 "cells": [
  {
   "cell_type": "code",
   "execution_count": 1,
   "metadata": {},
   "outputs": [],
   "source": [
    "import os\n",
    "import re\n",
    "import json\n",
    "import nltk\n",
    "import googleapiclient.discovery\n",
    "\n",
    "from nltk.sentiment import SentimentIntensityAnalyzer\n"
   ]
  },
  {
   "cell_type": "code",
   "execution_count": 2,
   "metadata": {},
   "outputs": [
    {
     "name": "stderr",
     "output_type": "stream",
     "text": [
      "[nltk_data] Downloading package vader_lexicon to\n",
      "[nltk_data]     C:\\Users\\hp\\AppData\\Roaming\\nltk_data...\n",
      "[nltk_data]   Package vader_lexicon is already up-to-date!\n"
     ]
    }
   ],
   "source": [
    "nltk.download('vader_lexicon')\n",
    "sid = SentimentIntensityAnalyzer()\n",
    "\n",
    "# YouTube Data API key\n",
    "API_KEY = \"\"  # Add your own data key here\n"
   ]
  },
  {
   "cell_type": "code",
   "execution_count": 3,
   "metadata": {},
   "outputs": [],
   "source": [
    "def get_video_comments(video_id):\n",
    "    youtube = googleapiclient.discovery.build(\n",
    "        \"youtube\", \"v3\", developerKey=API_KEY)\n",
    "    request = youtube.commentThreads().list(\n",
    "        part=\"snippet\",\n",
    "        videoId=video_id,\n",
    "        textFormat=\"plainText\",\n",
    "        maxResults=100\n",
    "    )\n",
    "    response = request.execute()\n",
    "    comments = []\n",
    "    for item in response[\"items\"]:\n",
    "        comment = item[\"snippet\"][\"topLevelComment\"][\"snippet\"][\"textDisplay\"]\n",
    "        comments.append(comment)\n",
    "    return comments\n"
   ]
  },
  {
   "cell_type": "code",
   "execution_count": 4,
   "metadata": {},
   "outputs": [],
   "source": [
    "def analyze_sentiment(comments):\n",
    "    positive_count = 0\n",
    "    negative_count = 0\n",
    "    neutral_count = 0\n",
    "    for comment in comments:\n",
    "        # Clean the comment text\n",
    "        cleaned_comment = re.sub(r'http\\S+', '', comment)  # Remove URLs\n",
    "        # Perform sentiment analysis\n",
    "        sentiment_scores = sid.polarity_scores(cleaned_comment)\n",
    "        if sentiment_scores['compound'] >= 0.05:\n",
    "            positive_count += 1\n",
    "        elif sentiment_scores['compound'] <= -0.05:\n",
    "            negative_count += 1\n",
    "        else:\n",
    "            neutral_count += 1\n",
    "    total_comments = len(comments)\n",
    "    print(\"Sentiment Analysis Results:\")\n",
    "    print(\"Positive Comments: {}%\".format(\n",
    "        (positive_count / total_comments) * 100))\n",
    "    print(\"Negative Comments: {}%\".format(\n",
    "        (negative_count / total_comments) * 100))\n",
    "    print(\"Neutral Comments: {}%\".format(\n",
    "        (neutral_count / total_comments) * 100))\n"
   ]
  },
  {
   "cell_type": "code",
   "execution_count": 6,
   "metadata": {},
   "outputs": [
    {
     "name": "stdout",
     "output_type": "stream",
     "text": [
      "Sentiment Analysis Results:\n",
      "Positive Comments: 33.33333333333333%\n",
      "Negative Comments: 0.0%\n",
      "Neutral Comments: 66.66666666666666%\n"
     ]
    }
   ],
   "source": [
    "from urllib.parse import urlparse,parse_qs\n",
    "\n",
    "\n",
    "def main():\n",
    "    video_url = input(\"Enter the YouTube video URL: \")\n",
    "    video_id = parse_qs(urlparse(video_url).query).get(\"v\")\n",
    "    if video_id:\n",
    "        comments = get_video_comments(video_id[0])\n",
    "        analyze_sentiment(comments)\n",
    "    else:\n",
    "        print(\"Invalid YouTube video URL.\")\n",
    "\n",
    "\n",
    "if __name__ == \"__main__\":\n",
    "    main()\n"
   ]
  }
 ],
 "metadata": {
  "kernelspec": {
   "display_name": "Python 3.10.4 64-bit",
   "language": "python",
   "name": "python3"
  },
  "language_info": {
   "codemirror_mode": {
    "name": "ipython",
    "version": 3
   },
   "file_extension": ".py",
   "mimetype": "text/x-python",
   "name": "python",
   "nbconvert_exporter": "python",
   "pygments_lexer": "ipython3",
   "version": "3.10.4"
  },
  "orig_nbformat": 4,
  "vscode": {
   "interpreter": {
    "hash": "63963b3f4c440940f0b94a3100916033a226cb4f45979123153792d60aa56d6a"
   }
  }
 },
 "nbformat": 4,
 "nbformat_minor": 2
}
